{
 "cells": [
  {
   "cell_type": "markdown",
   "id": "5e1f34e6",
   "metadata": {},
   "source": [
    "# Proyecto: SQL avanzado  & ETL"
   ]
  },
  {
   "cell_type": "markdown",
   "id": "961208b5",
   "metadata": {},
   "source": [
    "## Librerías"
   ]
  },
  {
   "cell_type": "code",
   "execution_count": 1,
   "id": "0171d0a8",
   "metadata": {},
   "outputs": [],
   "source": [
    "import sqlalchemy\n",
    "from sqlalchemy import create_engine\n",
    "from sqlalchemy import Table, Column, Integer, String, MetaData, ForeignKey\n",
    "from sqlalchemy import inspect\n",
    "import pandas as pd\n",
    "import sqlite3\n",
    "import matplotlib.pyplot as plt\n",
    "import numpy as np"
   ]
  },
  {
   "cell_type": "markdown",
   "id": "fc1310d4",
   "metadata": {},
   "source": [
    "## Conexión"
   ]
  },
  {
   "cell_type": "code",
   "execution_count": 2,
   "id": "b225b150",
   "metadata": {},
   "outputs": [
    {
     "data": {
      "text/plain": [
       "Engine(sqlite:///chinook.db)"
      ]
     },
     "execution_count": 2,
     "metadata": {},
     "output_type": "execute_result"
    }
   ],
   "source": [
    "engine = create_engine('sqlite:///chinook.db')\n",
    "engine"
   ]
  },
  {
   "cell_type": "code",
   "execution_count": 3,
   "id": "72a46fff",
   "metadata": {},
   "outputs": [
    {
     "data": {
      "text/plain": [
       "[{'name': 'TrackId',\n",
       "  'type': INTEGER(),\n",
       "  'nullable': False,\n",
       "  'default': None,\n",
       "  'autoincrement': 'auto',\n",
       "  'primary_key': 1},\n",
       " {'name': 'Name',\n",
       "  'type': NVARCHAR(length=200),\n",
       "  'nullable': False,\n",
       "  'default': None,\n",
       "  'autoincrement': 'auto',\n",
       "  'primary_key': 0},\n",
       " {'name': 'AlbumId',\n",
       "  'type': INTEGER(),\n",
       "  'nullable': True,\n",
       "  'default': None,\n",
       "  'autoincrement': 'auto',\n",
       "  'primary_key': 0},\n",
       " {'name': 'MediaTypeId',\n",
       "  'type': INTEGER(),\n",
       "  'nullable': False,\n",
       "  'default': None,\n",
       "  'autoincrement': 'auto',\n",
       "  'primary_key': 0},\n",
       " {'name': 'GenreId',\n",
       "  'type': INTEGER(),\n",
       "  'nullable': True,\n",
       "  'default': None,\n",
       "  'autoincrement': 'auto',\n",
       "  'primary_key': 0},\n",
       " {'name': 'Composer',\n",
       "  'type': NVARCHAR(length=220),\n",
       "  'nullable': True,\n",
       "  'default': None,\n",
       "  'autoincrement': 'auto',\n",
       "  'primary_key': 0},\n",
       " {'name': 'Milliseconds',\n",
       "  'type': INTEGER(),\n",
       "  'nullable': False,\n",
       "  'default': None,\n",
       "  'autoincrement': 'auto',\n",
       "  'primary_key': 0},\n",
       " {'name': 'Bytes',\n",
       "  'type': INTEGER(),\n",
       "  'nullable': True,\n",
       "  'default': None,\n",
       "  'autoincrement': 'auto',\n",
       "  'primary_key': 0},\n",
       " {'name': 'UnitPrice',\n",
       "  'type': NUMERIC(precision=10, scale=2),\n",
       "  'nullable': False,\n",
       "  'default': None,\n",
       "  'autoincrement': 'auto',\n",
       "  'primary_key': 0}]"
      ]
     },
     "execution_count": 3,
     "metadata": {},
     "output_type": "execute_result"
    }
   ],
   "source": [
    "metadata = MetaData()\n",
    "\n",
    "# This method instantiates the tables that already \n",
    "# exist in the database, which the engine is connected to. \n",
    "metadata.create_all(engine)\n",
    "\n",
    "# Checking this out, we can see the table structure and variable types for the employees table\n",
    "inspector = inspect(engine)\n",
    "\n",
    "# Checked out the columns in the employees table\n",
    "inspector.get_columns('albums')\n",
    "inspector.get_columns('artists')\n",
    "inspector.get_columns('customers')\n",
    "inspector.get_columns('employees')\n",
    "inspector.get_columns('genres')\n",
    "inspector.get_columns('invoice_items')\n",
    "inspector.get_columns('invoices')\n",
    "inspector.get_columns('media_types')\n",
    "inspector.get_columns('playlist_track')\n",
    "inspector.get_columns('playlists')\n",
    "inspector.get_columns('tracks')"
   ]
  },
  {
   "cell_type": "markdown",
   "id": "b86971f6",
   "metadata": {},
   "source": [
    "## Proceso de Extracción"
   ]
  },
  {
   "cell_type": "code",
   "execution_count": 4,
   "id": "73554e18",
   "metadata": {},
   "outputs": [
    {
     "name": "stdout",
     "output_type": "stream",
     "text": [
      "('Park Margaret', 'Alternative', 'Protected AAC audio file', 63.44, 4)\n",
      "('Peacock Jane', 'Alternative', 'Protected AAC audio file', 147.73, 10)\n",
      "('Johnson Steve', 'Alternative & Punk', 'MPEG audio file', 721.01, 89)\n",
      "('Park Margaret', 'Alternative & Punk', 'MPEG audio file', 724.68, 84)\n",
      "('Peacock Jane', 'Alternative & Punk', 'MPEG audio file', 515.97, 71)\n",
      "('Johnson Steve', 'Blues', 'MPEG audio file', 142.56, 25)\n",
      "('Park Margaret', 'Blues', 'MPEG audio file', 135.63, 17)\n",
      "('Peacock Jane', 'Blues', 'MPEG audio file', 151.47, 19)\n",
      "('Johnson Steve', 'Bossa Nova', 'MPEG audio file', 4.95, 3)\n",
      "('Park Margaret', 'Bossa Nova', 'MPEG audio file', 41.58, 3)\n",
      "('Peacock Jane', 'Bossa Nova', 'MPEG audio file', 39.6, 9)\n",
      "('Johnson Steve', 'Classical', 'Protected AAC audio file', 28.71, 7)\n",
      "('Park Margaret', 'Classical', 'Protected AAC audio file', 142.66, 15)\n",
      "('Peacock Jane', 'Classical', 'Protected AAC audio file', 145.67, 19)\n",
      "('Johnson Steve', 'Comedy', 'Protected MPEG-4 video file', 42.74, 3)\n",
      "('Peacock Jane', 'Comedy', 'Protected MPEG-4 video file', 69.56, 6)\n",
      "('Johnson Steve', 'Drama', 'Protected MPEG-4 video file', 219.8, 10)\n",
      "('Park Margaret', 'Drama', 'Protected MPEG-4 video file', 196.71, 11)\n",
      "('Peacock Jane', 'Drama', 'Protected MPEG-4 video file', 128.1, 8)\n",
      "('Johnson Steve', 'Easy Listening', 'MPEG audio file', 83.16, 6)\n",
      "('Park Margaret', 'Easy Listening', 'MPEG audio file', 27.72, 2)\n",
      "('Peacock Jane', 'Easy Listening', 'MPEG audio file', 27.72, 2)\n",
      "('Johnson Steve', 'Electronica/Dance', 'MPEG audio file', 31.68, 3)\n",
      "('Park Margaret', 'Electronica/Dance', 'MPEG audio file', 45.58, 3)\n",
      "('Peacock Jane', 'Electronica/Dance', 'MPEG audio file', 72.36, 6)\n",
      "('Johnson Steve', 'Heavy Metal', 'MPEG audio file', 41.58, 3)\n",
      "('Park Margaret', 'Heavy Metal', 'MPEG audio file', 119.79, 9)\n",
      "('Johnson Steve', 'Hip Hop/Rap', 'MPEG audio file', 72.27, 8)\n",
      "('Park Margaret', 'Hip Hop/Rap', 'MPEG audio file', 1.98, 1)\n",
      "('Peacock Jane', 'Hip Hop/Rap', 'MPEG audio file', 92.16, 8)\n",
      "('Johnson Steve', 'Jazz', 'MPEG audio file', 120.78, 16)\n",
      "('Park Margaret', 'Jazz', 'MPEG audio file', 319.77, 30)\n",
      "('Peacock Jane', 'Jazz', 'MPEG audio file', 305.91, 34)\n",
      "('Johnson Steve', 'Latin', 'MPEG audio file', 1090.26, 119)\n",
      "('Park Margaret', 'Latin', 'MPEG audio file', 1012.86, 128)\n",
      "('Peacock Jane', 'Latin', 'MPEG audio file', 1369.43, 139)\n",
      "('Johnson Steve', 'Metal', 'MPEG audio file', 571.28, 81)\n",
      "('Park Margaret', 'Metal', 'MPEG audio file', 798.0, 97)\n",
      "('Peacock Jane', 'Metal', 'MPEG audio file', 723.85, 86)\n",
      "('Johnson Steve', 'Pop', 'MPEG audio file', 106.02, 10)\n",
      "('Park Margaret', 'Pop', 'Protected AAC audio file', 106.01, 16)\n",
      "('Peacock Jane', 'Pop', 'MPEG audio file', 27.72, 2)\n",
      "('Johnson Steve', 'R&B/Soul', 'MPEG audio file', 108.9, 14)\n",
      "('Park Margaret', 'R&B/Soul', 'MPEG audio file', 69.3, 9)\n",
      "('Peacock Jane', 'R&B/Soul', 'Protected AAC audio file', 160.42, 18)\n",
      "('Johnson Steve', 'Reggae', 'MPEG audio file', 110.88, 8)\n",
      "('Park Margaret', 'Reggae', 'MPEG audio file', 90.09, 9)\n",
      "('Peacock Jane', 'Reggae', 'MPEG audio file', 131.67, 13)\n",
      "('Johnson Steve', 'Rock', 'Protected AAC audio file', 2253.96, 231)\n",
      "('Park Margaret', 'Rock', 'MPEG audio file', 2728.1, 300)\n",
      "('Peacock Jane', 'Rock', 'MPEG audio file', 2737.96, 304)\n",
      "('Park Margaret', 'Rock And Roll', 'MPEG audio file', 41.58, 3)\n",
      "('Peacock Jane', 'Rock And Roll', 'MPEG audio file', 41.58, 3)\n",
      "('Johnson Steve', 'Sci Fi & Fantasy', 'Protected MPEG-4 video file', 92.49, 8)\n",
      "('Park Margaret', 'Sci Fi & Fantasy', 'Protected MPEG-4 video file', 34.77, 2)\n",
      "('Peacock Jane', 'Sci Fi & Fantasy', 'Protected MPEG-4 video file', 71.61, 10)\n",
      "('Johnson Steve', 'Science Fiction', 'Protected MPEG-4 video file', 72.59, 4)\n",
      "('Peacock Jane', 'Science Fiction', 'Protected MPEG-4 video file', 29.82, 2)\n",
      "('Johnson Steve', 'Soundtrack', 'MPEG audio file', 145.53, 13)\n",
      "('Park Margaret', 'Soundtrack', 'MPEG audio file', 41.58, 3)\n",
      "('Peacock Jane', 'Soundtrack', 'MPEG audio file', 55.44, 4)\n",
      "('Johnson Steve', 'TV Shows', 'Protected MPEG-4 video file', 359.71, 18)\n",
      "('Park Margaret', 'TV Shows', 'Protected MPEG-4 video file', 132.13, 10)\n",
      "('Peacock Jane', 'TV Shows', 'Protected MPEG-4 video file', 325.87, 19)\n",
      "('Johnson Steve', 'World', 'MPEG audio file', 69.3, 5)\n",
      "('Park Margaret', 'World', 'AAC audio file', 57.44, 4)\n",
      "('Peacock Jane', 'World', 'MPEG audio file', 55.44, 4)\n"
     ]
    }
   ],
   "source": [
    "with engine.connect() as con:\n",
    "    \n",
    "    rs = con.execute(\"\"\"SELECT employees.LastName || \" \" || employees.FirstName AS Empleado,\n",
    "       genres.Name AS Género,\n",
    "       media_types.Name AS MediaType,\n",
    "       ROUND(SUM(invoices.Total), 2) AS [Total Ventas por género],\n",
    "       Count(genres.Name) AS [Cantidad ventas por género]\n",
    "  FROM employees\n",
    "       INNER JOIN\n",
    "       customers ON employees.EmployeeId = customers.SupportRepId\n",
    "       INNER JOIN\n",
    "       invoices ON customers.CustomerId = invoices.CustomerId\n",
    "       INNER JOIN\n",
    "       invoice_items ON invoices.InvoiceId = invoice_items.InvoiceId\n",
    "       INNER JOIN\n",
    "       tracks ON invoice_items.TrackId = tracks.TrackId\n",
    "       INNER JOIN\n",
    "       genres ON tracks.GenreId = genres.GenreId\n",
    "       INNER JOIN\n",
    "       media_types ON tracks.MediaTypeId = media_types.MediaTypeId\n",
    " GROUP BY Empleado,\n",
    "          genres.Name\n",
    " ORDER BY genres.Name;\"\"\")\n",
    "    \n",
    "    for row in rs:\n",
    "        print(row)"
   ]
  },
  {
   "cell_type": "code",
   "execution_count": 5,
   "id": "be938e2f",
   "metadata": {},
   "outputs": [
    {
     "name": "stdout",
     "output_type": "stream",
     "text": [
      "('Park Margaret', 'Alternative', 'Protected AAC audio file', 63.44, 4)\n",
      "('Peacock Jane', 'Alternative', 'Protected AAC audio file', 147.73, 10)\n",
      "('Johnson Steve', 'Alternative & Punk', 'MPEG audio file', 721.01, 89)\n",
      "('Park Margaret', 'Alternative & Punk', 'MPEG audio file', 724.68, 84)\n",
      "('Peacock Jane', 'Alternative & Punk', 'MPEG audio file', 515.97, 71)\n",
      "('Johnson Steve', 'Blues', 'MPEG audio file', 142.56, 25)\n",
      "('Park Margaret', 'Blues', 'MPEG audio file', 135.63, 17)\n",
      "('Peacock Jane', 'Blues', 'MPEG audio file', 151.47, 19)\n",
      "('Johnson Steve', 'Bossa Nova', 'MPEG audio file', 4.95, 3)\n",
      "('Park Margaret', 'Bossa Nova', 'MPEG audio file', 41.58, 3)\n",
      "('Peacock Jane', 'Bossa Nova', 'MPEG audio file', 39.6, 9)\n",
      "('Johnson Steve', 'Classical', 'Protected AAC audio file', 28.71, 7)\n",
      "('Park Margaret', 'Classical', 'Protected AAC audio file', 142.66, 15)\n",
      "('Peacock Jane', 'Classical', 'Protected AAC audio file', 145.67, 19)\n",
      "('Johnson Steve', 'Comedy', 'Protected MPEG-4 video file', 42.74, 3)\n",
      "('Peacock Jane', 'Comedy', 'Protected MPEG-4 video file', 69.56, 6)\n",
      "('Johnson Steve', 'Drama', 'Protected MPEG-4 video file', 219.8, 10)\n",
      "('Park Margaret', 'Drama', 'Protected MPEG-4 video file', 196.71, 11)\n",
      "('Peacock Jane', 'Drama', 'Protected MPEG-4 video file', 128.1, 8)\n",
      "('Johnson Steve', 'Easy Listening', 'MPEG audio file', 83.16, 6)\n",
      "('Park Margaret', 'Easy Listening', 'MPEG audio file', 27.72, 2)\n",
      "('Peacock Jane', 'Easy Listening', 'MPEG audio file', 27.72, 2)\n",
      "('Johnson Steve', 'Electronica/Dance', 'MPEG audio file', 31.68, 3)\n",
      "('Park Margaret', 'Electronica/Dance', 'MPEG audio file', 45.58, 3)\n",
      "('Peacock Jane', 'Electronica/Dance', 'MPEG audio file', 72.36, 6)\n",
      "('Johnson Steve', 'Heavy Metal', 'MPEG audio file', 41.58, 3)\n",
      "('Park Margaret', 'Heavy Metal', 'MPEG audio file', 119.79, 9)\n",
      "('Johnson Steve', 'Hip Hop/Rap', 'MPEG audio file', 72.27, 8)\n",
      "('Park Margaret', 'Hip Hop/Rap', 'MPEG audio file', 1.98, 1)\n",
      "('Peacock Jane', 'Hip Hop/Rap', 'MPEG audio file', 92.16, 8)\n",
      "('Johnson Steve', 'Jazz', 'MPEG audio file', 120.78, 16)\n",
      "('Park Margaret', 'Jazz', 'MPEG audio file', 319.77, 30)\n",
      "('Peacock Jane', 'Jazz', 'MPEG audio file', 305.91, 34)\n",
      "('Johnson Steve', 'Latin', 'MPEG audio file', 1090.26, 119)\n",
      "('Park Margaret', 'Latin', 'MPEG audio file', 1012.86, 128)\n",
      "('Peacock Jane', 'Latin', 'MPEG audio file', 1369.43, 139)\n",
      "('Johnson Steve', 'Metal', 'MPEG audio file', 571.28, 81)\n",
      "('Park Margaret', 'Metal', 'MPEG audio file', 798.0, 97)\n",
      "('Peacock Jane', 'Metal', 'MPEG audio file', 723.85, 86)\n",
      "('Johnson Steve', 'Pop', 'MPEG audio file', 106.02, 10)\n",
      "('Park Margaret', 'Pop', 'Protected AAC audio file', 106.01, 16)\n",
      "('Peacock Jane', 'Pop', 'MPEG audio file', 27.72, 2)\n",
      "('Johnson Steve', 'R&B/Soul', 'MPEG audio file', 108.9, 14)\n",
      "('Park Margaret', 'R&B/Soul', 'MPEG audio file', 69.3, 9)\n",
      "('Peacock Jane', 'R&B/Soul', 'Protected AAC audio file', 160.42, 18)\n",
      "('Johnson Steve', 'Reggae', 'MPEG audio file', 110.88, 8)\n",
      "('Park Margaret', 'Reggae', 'MPEG audio file', 90.09, 9)\n",
      "('Peacock Jane', 'Reggae', 'MPEG audio file', 131.67, 13)\n",
      "('Johnson Steve', 'Rock', 'Protected AAC audio file', 2253.96, 231)\n",
      "('Park Margaret', 'Rock', 'MPEG audio file', 2728.1, 300)\n",
      "('Peacock Jane', 'Rock', 'MPEG audio file', 2737.96, 304)\n",
      "('Park Margaret', 'Rock And Roll', 'MPEG audio file', 41.58, 3)\n",
      "('Peacock Jane', 'Rock And Roll', 'MPEG audio file', 41.58, 3)\n",
      "('Johnson Steve', 'Sci Fi & Fantasy', 'Protected MPEG-4 video file', 92.49, 8)\n",
      "('Park Margaret', 'Sci Fi & Fantasy', 'Protected MPEG-4 video file', 34.77, 2)\n",
      "('Peacock Jane', 'Sci Fi & Fantasy', 'Protected MPEG-4 video file', 71.61, 10)\n",
      "('Johnson Steve', 'Science Fiction', 'Protected MPEG-4 video file', 72.59, 4)\n",
      "('Peacock Jane', 'Science Fiction', 'Protected MPEG-4 video file', 29.82, 2)\n",
      "('Johnson Steve', 'Soundtrack', 'MPEG audio file', 145.53, 13)\n",
      "('Park Margaret', 'Soundtrack', 'MPEG audio file', 41.58, 3)\n",
      "('Peacock Jane', 'Soundtrack', 'MPEG audio file', 55.44, 4)\n",
      "('Johnson Steve', 'TV Shows', 'Protected MPEG-4 video file', 359.71, 18)\n",
      "('Park Margaret', 'TV Shows', 'Protected MPEG-4 video file', 132.13, 10)\n",
      "('Peacock Jane', 'TV Shows', 'Protected MPEG-4 video file', 325.87, 19)\n",
      "('Johnson Steve', 'World', 'MPEG audio file', 69.3, 5)\n",
      "('Park Margaret', 'World', 'AAC audio file', 57.44, 4)\n",
      "('Peacock Jane', 'World', 'MPEG audio file', 55.44, 4)\n"
     ]
    }
   ],
   "source": [
    "with engine.connect() as con:\n",
    "    \n",
    "    rs = con.execute(\"\"\"SELECT employees.LastName || \" \" || employees.FirstName AS Empleado,\n",
    "       genres.Name AS Género,\n",
    "       media_types.Name AS MediaType,\n",
    "       ROUND(SUM(invoices.Total), 2) AS [Total Ventas por género],\n",
    "       Count(genres.Name) AS [Cantidad ventas por género]\n",
    "  FROM employees\n",
    "       INNER JOIN\n",
    "       customers ON employees.EmployeeId = customers.SupportRepId\n",
    "       INNER JOIN\n",
    "       invoices ON customers.CustomerId = invoices.CustomerId\n",
    "       INNER JOIN\n",
    "       invoice_items ON invoices.InvoiceId = invoice_items.InvoiceId\n",
    "       INNER JOIN\n",
    "       tracks ON invoice_items.TrackId = tracks.TrackId\n",
    "       INNER JOIN\n",
    "       genres ON tracks.GenreId = genres.GenreId\n",
    "       INNER JOIN\n",
    "       media_types ON tracks.MediaTypeId = media_types.MediaTypeId\n",
    " GROUP BY Empleado,\n",
    "          genres.Name\n",
    " ORDER BY genres.Name;\"\"\")\n",
    "    \n",
    "    for row in rs:\n",
    "        print(row)"
   ]
  },
  {
   "cell_type": "code",
   "execution_count": 6,
   "id": "8ab787c6",
   "metadata": {},
   "outputs": [
    {
     "name": "stdout",
     "output_type": "stream",
     "text": [
      "('Argentina', 1)\n",
      "('Australia', 1)\n",
      "('Austria', 1)\n",
      "('Belgium', 1)\n",
      "('Brazil', 5)\n",
      "('Canada', 8)\n",
      "('Chile', 1)\n",
      "('Czech Republic', 2)\n",
      "('Denmark', 1)\n",
      "('Finland', 1)\n",
      "('France', 5)\n",
      "('Germany', 4)\n",
      "('Hungary', 1)\n",
      "('India', 2)\n",
      "('Ireland', 1)\n",
      "('Italy', 1)\n",
      "('Netherlands', 1)\n",
      "('Norway', 1)\n",
      "('Poland', 1)\n",
      "('Portugal', 2)\n",
      "('Spain', 1)\n",
      "('Sweden', 1)\n",
      "('USA', 13)\n",
      "('United Kingdom', 3)\n"
     ]
    }
   ],
   "source": [
    "with engine.connect() as con:\n",
    "    \n",
    "    rs = con.execute(\"\"\"SELECT Country, COUNT(CustomerId) FROM customers GROUP BY Country\"\"\")\n",
    "    \n",
    "    for row in rs:\n",
    "        print(row)"
   ]
  },
  {
   "cell_type": "markdown",
   "id": "643cd33d",
   "metadata": {},
   "source": [
    "## Proceso de transformación "
   ]
  },
  {
   "cell_type": "code",
   "execution_count": 7,
   "id": "2b13069c",
   "metadata": {},
   "outputs": [],
   "source": [
    "df = pd.read_sql_query(\"\"\"SELECT invoices.InvoiceId AS [ID Factura],\n",
    "       employees.LastName || \" \" || employees.FirstName AS Empleado,\n",
    "       artists.Name AS Artista,\n",
    "       albums.Title AS Album,\n",
    "       employees.Title AS [Tipo de Empleado]\n",
    "  FROM employees\n",
    "       INNER JOIN\n",
    "       customers ON employees.EmployeeId = customers.SupportRepId\n",
    "       INNER JOIN\n",
    "       invoices ON customers.CustomerId = invoices.CustomerId\n",
    "       INNER JOIN\n",
    "       invoice_items ON invoices.InvoiceId = invoice_items.InvoiceId\n",
    "       INNER JOIN\n",
    "       tracks ON invoice_items.TrackId = tracks.TrackId\n",
    "       INNER JOIN\n",
    "       albums ON tracks.AlbumId = albums.AlbumId\n",
    "       INNER JOIN\n",
    "       artists ON albums.ArtistId = artists.ArtistId\n",
    " ORDER BY (invoices.InvoiceId) ASC;\n",
    "    \n",
    "    \"\"\", \n",
    "    con=engine.connect())"
   ]
  },
  {
   "cell_type": "code",
   "execution_count": 8,
   "id": "3e3ca40e",
   "metadata": {},
   "outputs": [],
   "source": [
    "#Consulte todas las facturas vendidas, mostrando:\n",
    "#El id de la factura-- Los Albums que se vendieron por factura\n",
    "#El artista del Album-- El empleado que registró la factura\n",
    "#El tipo de Empleado que lo vendió\n",
    "#Ordene de forma ascendente de acuerdo al Id de la Factura (De las más antigua a la más nueva)\n",
    "df2 = pd.read_sql_query(\"\"\"SELECT invoices.InvoiceId AS [ID Factura],\n",
    "       employees.LastName || \" \" || employees.FirstName AS Empleado,\n",
    "       artists.Name AS Artista,\n",
    "       albums.Title AS Album,\n",
    "       employees.Title AS [Tipo de Empleado]\n",
    "  FROM employees\n",
    "       INNER JOIN\n",
    "       customers ON employees.EmployeeId = customers.SupportRepId\n",
    "       INNER JOIN\n",
    "       invoices ON customers.CustomerId = invoices.CustomerId\n",
    "       INNER JOIN\n",
    "       invoice_items ON invoices.InvoiceId = invoice_items.InvoiceId\n",
    "       INNER JOIN\n",
    "       tracks ON invoice_items.TrackId = tracks.TrackId\n",
    "       INNER JOIN\n",
    "       albums ON tracks.AlbumId = albums.AlbumId\n",
    "       INNER JOIN\n",
    "       artists ON albums.ArtistId = artists.ArtistId\n",
    " ORDER BY (invoices.InvoiceId) ASC;\n",
    "    \n",
    "    \"\"\", \n",
    "    con=engine.connect())\n"
   ]
  },
  {
   "cell_type": "code",
   "execution_count": 9,
   "id": "cdb7034d",
   "metadata": {},
   "outputs": [],
   "source": [
    "df3 = pd.read_sql_query(\"SELECT Country, COUNT(CustomerId) FROM customers GROUP BY Country\", con=engine.connect())"
   ]
  },
  {
   "cell_type": "code",
   "execution_count": 10,
   "id": "af673849",
   "metadata": {},
   "outputs": [],
   "source": [
    "def graficoCiudadClientes():\n",
    "    con = sqlite3.connect(\"chinook.db\")\n",
    "    df = pd.read_sql_query(\"SELECT Country, COUNT(CustomerId) FROM customers GROUP BY Country\", con)\n",
    "    columna1=df['Country']\n",
    "    columna1\n",
    "    columna2=df['COUNT(CustomerId)']\n",
    "    plt.figure(figsize=(10,10))\n",
    "\n",
    "    plt.barh(columna1, columna2, color=\"green\")\n",
    "    ## Legenda en el eje y\n",
    "    plt.ylabel('Países ')\n",
    " \n",
    "    ## Legenda en el eje x\n",
    "    plt.xlabel('Cantidad Clientes')\n",
    "    plt.title('Países de los clientes')\n",
    "    plt.show()\n",
    "    con.close()"
   ]
  },
  {
   "cell_type": "code",
   "execution_count": 11,
   "id": "94c3dc8a",
   "metadata": {},
   "outputs": [
    {
     "data": {
      "image/png": "[encoded data removed]",
      "text/plain": [
       "<Figure size 720x720 with 1 Axes>"
      ]
     },
     "metadata": {
      "needs_background": "light"
     },
     "output_type": "display_data"
    }
   ],
   "source": [
    "graficoCiudadClientes()"
   ]
  },
  {
   "cell_type": "markdown",
   "id": "bad2b080",
   "metadata": {},
   "source": [
    "## Proceso de Carga"
   ]
  },
  {
   "cell_type": "code",
   "execution_count": 12,
   "id": "4fdf2226",
   "metadata": {},
   "outputs": [],
   "source": [
    "df.to_csv(\"Consulta1.csv\")"
   ]
  },
  {
   "cell_type": "code",
   "execution_count": 13,
   "id": "80b7ef3a",
   "metadata": {},
   "outputs": [],
   "source": [
    "df2.to_csv(\"Consulta2.csv\")\n"
   ]
  },
  {
   "cell_type": "code",
   "execution_count": 14,
   "id": "71acaa01",
   "metadata": {},
   "outputs": [],
   "source": [
    "df3.to_csv(\"Consulta3.csv\")"
   ]
  },
  {
   "cell_type": "code",
   "execution_count": null,
   "id": "0cbac625",
   "metadata": {},
   "outputs": [],
   "source": []
  }
 ],
 "metadata": {
  "kernelspec": {
   "display_name": "Python 3 (ipykernel)",
   "language": "python",
   "name": "python3"
  },
  "language_info": {
   "codemirror_mode": {
    "name": "ipython",
    "version": 3
   },
   "file_extension": ".py",
   "mimetype": "text/x-python",
   "name": "python",
   "nbconvert_exporter": "python",
   "pygments_lexer": "ipython3",
   "version": "3.9.7"
  }
 },
 "nbformat": 4,
 "nbformat_minor": 5
}
